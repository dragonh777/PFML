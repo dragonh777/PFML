{
 "cells": [
  {
   "cell_type": "code",
   "execution_count": 17,
   "id": "cb9d8e62",
   "metadata": {},
   "outputs": [
    {
     "ename": "AttributeError",
     "evalue": "'numpy.ndarray' object has no attribute 'getpixel'",
     "output_type": "error",
     "traceback": [
      "\u001b[1;31m---------------------------------------------------------------------------\u001b[0m",
      "\u001b[1;31mAttributeError\u001b[0m                            Traceback (most recent call last)",
      "\u001b[1;32m<ipython-input-17-da5d29a767f0>\u001b[0m in \u001b[0;36m<module>\u001b[1;34m\u001b[0m\n\u001b[0;32m     38\u001b[0m     \u001b[1;31m#rgb_img = img.convert('RGB')\u001b[0m\u001b[1;33m\u001b[0m\u001b[1;33m\u001b[0m\u001b[1;33m\u001b[0m\u001b[0m\n\u001b[0;32m     39\u001b[0m \u001b[1;33m\u001b[0m\u001b[0m\n\u001b[1;32m---> 40\u001b[1;33m     \u001b[0mb\u001b[0m\u001b[1;33m,\u001b[0m\u001b[0mg\u001b[0m\u001b[1;33m,\u001b[0m\u001b[0mr\u001b[0m \u001b[1;33m=\u001b[0m  \u001b[0mimg\u001b[0m\u001b[1;33m.\u001b[0m\u001b[0mgetpixel\u001b[0m\u001b[1;33m(\u001b[0m\u001b[1;33m(\u001b[0m\u001b[1;36m150\u001b[0m\u001b[1;33m,\u001b[0m\u001b[1;36m150\u001b[0m\u001b[1;33m)\u001b[0m\u001b[1;33m)\u001b[0m\u001b[1;33m\u001b[0m\u001b[1;33m\u001b[0m\u001b[0m\n\u001b[0m\u001b[0;32m     41\u001b[0m \u001b[1;33m\u001b[0m\u001b[0m\n\u001b[0;32m     42\u001b[0m     \u001b[1;31m#print(b,g,r)\u001b[0m\u001b[1;33m\u001b[0m\u001b[1;33m\u001b[0m\u001b[1;33m\u001b[0m\u001b[0m\n",
      "\u001b[1;31mAttributeError\u001b[0m: 'numpy.ndarray' object has no attribute 'getpixel'"
     ]
    }
   ],
   "source": [
    "from PIL import Image\n",
    "import numpy as np\n",
    "import pandas as pd\n",
    "import cx_Oracle\n",
    "import glob\n",
    "from openpyxl import Workbook\n",
    "import cv2\n",
    "\n",
    "dsn = cx_Oracle.makedsn('localhost', '1521', 'xe')\n",
    "con = cx_Oracle.connect('personal','1234')\n",
    "\n",
    "cursor = con.cursor()\n",
    "\n",
    "#사용자 지정 위치의 픽셀값 얻기\n",
    "\n",
    "images = glob.glob('C:/Users/changju/Desktop/coloring_resize/face(lib)_resize/*.jpg')\n",
    "\n",
    "\n",
    "wb = Workbook()\n",
    "\n",
    "for sheet in wb.sheetnames:\n",
    "    wb.remove(wb[sheet])\n",
    "\n",
    "sheet1 = wb.active\n",
    "sheet2 = wb.active\n",
    "\n",
    "sheet1 = wb.create_sheet('red')\n",
    "#sheet2.title = 'pink'\n",
    "    \n",
    "\n",
    "sheet1['A1']='b'\n",
    "sheet1['B1']='g'\n",
    "sheet1['C1']='r'\n",
    "    \n",
    "for i in images:\n",
    "    \n",
    "    img = cv2.imread(i)\n",
    "    rgb_img = img.convert('RGB')\n",
    "\n",
    "    b,g,r =  rgb_img.getpixel((150,150))\n",
    "\n",
    "    #print(b,g,r)\n",
    "    \n",
    "#     data = {'b' :[b],\n",
    "#            'g', : [g],\n",
    "#            'r', : [r]}\n",
    "\n",
    "    sheet1.append([b],[g],[r])\n",
    "\n",
    "\n",
    "wb.save('C:/Users/changju/Desktop/dd/bgr.xlsx')    \n",
    "\n",
    "# 엑셀에 데이터 저장 \n",
    "\n",
    "# data = {'b' : [b],\n",
    "#         'g' : [g],\n",
    "#         'r' : [r]   \n",
    "#        }\n",
    "\n",
    "# test = pd.DataFrame(data)\n",
    "# excel_test = 'C:/Users/changju/Desktop/dd/test.xlsx' \n",
    "\n",
    "# with pd.ExcelWriter(excel_test) as writer:\n",
    "#     test.to_excel(writer, sheet_name = 'test')\n"
   ]
  },
  {
   "cell_type": "code",
   "execution_count": null,
   "id": "ab59c2fb",
   "metadata": {},
   "outputs": [],
   "source": []
  }
 ],
 "metadata": {
  "kernelspec": {
   "display_name": "Python 3",
   "language": "python",
   "name": "python3"
  },
  "language_info": {
   "codemirror_mode": {
    "name": "ipython",
    "version": 3
   },
   "file_extension": ".py",
   "mimetype": "text/x-python",
   "name": "python",
   "nbconvert_exporter": "python",
   "pygments_lexer": "ipython3",
   "version": "3.8.6"
  }
 },
 "nbformat": 4,
 "nbformat_minor": 5
}
