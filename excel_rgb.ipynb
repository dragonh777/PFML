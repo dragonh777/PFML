{
 "cells": [
  {
   "cell_type": "code",
   "execution_count": 12,
   "id": "cb9d8e62",
   "metadata": {},
   "outputs": [
    {
     "name": "stdout",
     "output_type": "stream",
     "text": [
      "199 73 87\n"
     ]
    }
   ],
   "source": [
    "from PIL import Image\n",
    "import numpy as np\n",
    "import pandas as pd\n",
    "import cx_Oracle\n",
    "import glob\n",
    "\n",
    "dsn = cx_Oracle.makedsn('localhost', '1521', 'xe')\n",
    "con = cx_Oracle.connect('personal','1234')\n",
    "\n",
    "cursor = con.cursor()\n",
    "\n",
    "#사용자 지정 위치의 픽셀값 얻기\n",
    "img = Image.open('C:/Users/changju/Desktop/dd/45.jpg')\n",
    "#print(img.size)\n",
    "\n",
    "path = glob.glob(\"C:/Users/changju/Desktop/dd/*.jpg\")\n",
    "\n",
    "rgb_img = img.convert('RGB')\n",
    "\n",
    "r, g, b =  rgb_img.getpixel((360,360))\n",
    "\n",
    "print(r,g,b)\n",
    "\n",
    "\n",
    "# 엑셀에 데이터 저장 \n",
    "\n",
    "data = {'b' : [b],\n",
    "        'g' : [g],\n",
    "        'r' : [r]   \n",
    "       }\n",
    "\n",
    "test = pd.DataFrame(data)\n",
    "excel_test = 'C:/Users/changju/Desktop/dd/test.xlsx' \n",
    "\n",
    "with pd.ExcelWriter(excel_test) as writer:\n",
    "    test.to_excel(writer, sheet_name = 'test')\n"
   ]
  },
  {
   "cell_type": "code",
   "execution_count": null,
   "id": "ab59c2fb",
   "metadata": {},
   "outputs": [],
   "source": []
  }
 ],
 "metadata": {
  "kernelspec": {
   "display_name": "Python 3",
   "language": "python",
   "name": "python3"
  },
  "language_info": {
   "codemirror_mode": {
    "name": "ipython",
    "version": 3
   },
   "file_extension": ".py",
   "mimetype": "text/x-python",
   "name": "python",
   "nbconvert_exporter": "python",
   "pygments_lexer": "ipython3",
   "version": "3.8.6"
  }
 },
 "nbformat": 4,
 "nbformat_minor": 5
}
