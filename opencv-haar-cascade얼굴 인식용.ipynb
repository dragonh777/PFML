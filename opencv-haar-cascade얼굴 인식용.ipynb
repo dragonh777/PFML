{
 "cells": [
  {
   "cell_type": "code",
   "execution_count": 1,
   "metadata": {},
   "outputs": [],
   "source": [
    "import numpy as np\n",
    "import cv2\n",
    "from matplotlib import pyplot as plt\n",
    "\n",
    "face_cascade = cv2.CascadeClassifier('C:/Users/user/anaconda3/Lib/site-packages/cv2/data/haarcascade_frontalface_default.xml')\n",
    "mouth_cascade = cv2.CascadeClassifier(cv2.data.haarcascades + 'haarcascade_smile.xml')\n",
    "#얼굴 전면 한정하여 검출하는 분류기 객체 생성\n",
    "\n",
    "img = cv2.imread('C:/Users/user/Desktop/test.jpeg')\n",
    "#이미지 로드\n",
    "gray = cv2.cvtColor(img, cv2.COLOR_BGR2GRAY)\n",
    "#그레이스케일로 전처리\n",
    "\n",
    "faces = face_cascade.detectMultiScale(gray, 1.3, 5)\n",
    "#로드한 이미지에서 얼굴이라고 판단하는 부분의 좌표 값 생성\n",
    "\n",
    "for (x, y, w, h) in faces:\n",
    "    cv2.rectangle(img, (x, y), (x + w, y + h), (255, 0, 255), 2)\n",
    "    roi_gray = gray[y+(int(h/2)):y+h, x:x+w]\n",
    "    roi_color = img[y+(int(h/2)):y+h, x:x+w]\n",
    "    mouth = mouth_cascade.detectMultiScale(roi_gray)\n",
    "    for (mx, my, mw, mh) in mouth:\n",
    "            cv2.rectangle(roi_color, (mx, my), (mx + mw, my + mh), (0, 255, 0), 2)\n",
    "#cv2.rectangle(이미지, 시작점, 끝점, 컬러 ,두께)\n",
    "#입력한 이미지의 컬러/흑백 상관 없이 내부적으로 알아서 grayscale로 입력\n",
    "\n",
    "cv2.imwrite('C:/Users/user/Desktop/img.jpeg', img)\n",
    "cv2.imshow('img', img)\n",
    "cv2.waitKey(0)\n",
    "cv2.destroyAllWindows()"
   ]
  },
  {
   "cell_type": "code",
   "execution_count": null,
   "metadata": {},
   "outputs": [],
   "source": []
  }
 ],
 "metadata": {
  "kernelspec": {
   "display_name": "Python 3",
   "language": "python",
   "name": "python3"
  },
  "language_info": {
   "codemirror_mode": {
    "name": "ipython",
    "version": 3
   },
   "file_extension": ".py",
   "mimetype": "text/x-python",
   "name": "python",
   "nbconvert_exporter": "python",
   "pygments_lexer": "ipython3",
   "version": "3.8.5"
  }
 },
 "nbformat": 4,
 "nbformat_minor": 4
}
