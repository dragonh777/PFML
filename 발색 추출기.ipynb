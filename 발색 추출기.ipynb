{
 "cells": [
  {
   "cell_type": "code",
   "execution_count": 1,
   "metadata": {},
   "outputs": [
    {
     "data": {
      "text/plain": [
       "True"
      ]
     },
     "execution_count": 1,
     "metadata": {},
     "output_type": "execute_result"
    }
   ],
   "source": [
    "import os\n",
    "import numpy as np\n",
    "import cv2\n",
    "\n",
    "img_color = cv2.imread('C:/Users/user/Desktop/test.jpg') # 이미지 파일을 컬러로 불러옴 \n",
    "height, width = img_color.shape[:2] # 이미지의 높이와 너비 불러옴, 가로 [0], 세로[1]\n",
    "\n",
    "img_hsv = cv2.cvtColor(img_color, cv2.COLOR_BGR2HSV) # cvtColor 함수를 이용하여 hsv 색공간으로 변환 \n",
    "\n",
    "lower_red_a = cv2.inRange(img_hsv, (0,25,38), (9,255,255))\n",
    "upper_red_b = cv2.inRange(img_hsv, (170,25,38), (180,255,255))\n",
    "    \n",
    "added_red = cv2.addWeighted(lower_red_a, 1.0, upper_red_b, 1.0, 0.0)\n",
    "            \n",
    "red_pixels = cv2.countNonZero(added_red)\n",
    "    \n",
    "red_result = cv2.bitwise_and(img_color, img_color, mask=added_red) \n",
    "    \n",
    "cv2.imshow('red_color', red_result)\n",
    "cv2.imwrite('C:/Users/user/Desktop/result.jpg', red_result)"
   ]
  },
  {
   "cell_type": "code",
   "execution_count": 14,
   "metadata": {},
   "outputs": [
    {
     "data": {
      "text/plain": [
       "True"
      ]
     },
     "execution_count": 14,
     "metadata": {},
     "output_type": "execute_result"
    }
   ],
   "source": [
    "import os\n",
    "import numpy as np\n",
    "import cv2\n",
    "\n",
    "\n",
    "img_color = cv2.imread('C:/Users/user/Desktop/test.jpg') # 이미지 파일을 컬러로 불러옴 \n",
    "height, width = img_color.shape[:2] # 이미지의 높이와 너비 불러옴, 가로 [0], 세로[1]\n",
    "\n",
    "img_hsv = cv2.cvtColor(img_color, cv2.COLOR_BGR2HSV) # cvtColor 함수를 이용하여 hsv 색공간으로 변환 \n",
    "\n",
    "\n",
    "def pink (img_hsv):\n",
    "    lower_pink = (145,25,38)\n",
    "    upper_pink = (169,255,255)\n",
    "                    \n",
    "    pink_mask = cv2.inRange(img_hsv, lower_pink, upper_pink)\n",
    "            \n",
    "    pink_pixels = cv2.countNonZero(pink_mask)\n",
    "                \n",
    "    pink_result = cv2.bitwise_and(img_color, img_color, mask=pink_mask)\n",
    "    \n",
    "    return pink_result\n",
    "\n",
    "def red (img_hsv):\n",
    "    lower_red_a = cv2.inRange(img_hsv, (0,25,38), (9,255,255))\n",
    "    upper_red_b = cv2.inRange(img_hsv, (170,25,38), (180,255,255))\n",
    "    \n",
    "    added_red = cv2.addWeighted(lower_red_a, 1.0, upper_red_b, 1.0, 0.0)\n",
    "            \n",
    "    red_pixels = cv2.countNonZero(added_red)\n",
    "     \n",
    "    red_result = cv2.bitwise_and(img_color, img_color, mask=added_red)\n",
    "    \n",
    "    return red_result\n",
    "\n",
    "red(img_hsv)\n",
    "pink(img_hsv)\n",
    "    \n",
    "#cv2.imshow('red_color', red)\n",
    "cv2.imwrite('C:/Users/user/Desktop/red_result.jpg', red(img_hsv))\n",
    "#cv2.imshow('pink_color', pink)\n",
    "cv2.imwrite('C:/Users/user/Desktop/pink_result2.jpg', pink(img_hsv))"
   ]
  },
  {
   "cell_type": "code",
   "execution_count": 27,
   "metadata": {},
   "outputs": [
    {
     "name": "stdout",
     "output_type": "stream",
     "text": [
      "(226, 300, 3)\n",
      "(226, 300)\n"
     ]
    },
    {
     "ename": "error",
     "evalue": "OpenCV(4.1.2) C:\\projects\\opencv-python\\opencv\\modules\\core\\src\\arithm.cpp:245: error: (-215:Assertion failed) (mtype == CV_8U || mtype == CV_8S) && _mask.sameSize(*psrc1) in function 'cv::binary_op'\n",
     "output_type": "error",
     "traceback": [
      "\u001b[1;31m---------------------------------------------------------------------------\u001b[0m",
      "\u001b[1;31merror\u001b[0m                                     Traceback (most recent call last)",
      "\u001b[1;32m<ipython-input-27-3ea42f399f27>\u001b[0m in \u001b[0;36m<module>\u001b[1;34m\u001b[0m\n\u001b[0;32m     42\u001b[0m     \u001b[0mimg_hsv\u001b[0m \u001b[1;33m=\u001b[0m \u001b[0mcv2\u001b[0m\u001b[1;33m.\u001b[0m\u001b[0mcvtColor\u001b[0m\u001b[1;33m(\u001b[0m\u001b[0mimage\u001b[0m\u001b[1;33m,\u001b[0m \u001b[0mcv2\u001b[0m\u001b[1;33m.\u001b[0m\u001b[0mCOLOR_BGR2HSV\u001b[0m\u001b[1;33m)\u001b[0m \u001b[1;31m# cvtColor 함수를 이용하여 hsv 색공간으로 변환\u001b[0m\u001b[1;33m\u001b[0m\u001b[1;33m\u001b[0m\u001b[0m\n\u001b[0;32m     43\u001b[0m     \u001b[0mprint\u001b[0m\u001b[1;33m(\u001b[0m\u001b[0mimage\u001b[0m\u001b[1;33m.\u001b[0m\u001b[0mshape\u001b[0m\u001b[1;33m)\u001b[0m\u001b[1;33m\u001b[0m\u001b[1;33m\u001b[0m\u001b[0m\n\u001b[1;32m---> 44\u001b[1;33m     \u001b[0mpink\u001b[0m\u001b[1;33m(\u001b[0m\u001b[0mimg_hsv\u001b[0m\u001b[1;33m)\u001b[0m\u001b[1;33m\u001b[0m\u001b[1;33m\u001b[0m\u001b[0m\n\u001b[0m\u001b[0;32m     45\u001b[0m     \u001b[0mred\u001b[0m\u001b[1;33m(\u001b[0m\u001b[0mimg_hsv\u001b[0m\u001b[1;33m)\u001b[0m\u001b[1;33m\u001b[0m\u001b[1;33m\u001b[0m\u001b[0m\n\u001b[0;32m     46\u001b[0m \u001b[1;33m\u001b[0m\u001b[0m\n",
      "\u001b[1;32m<ipython-input-27-3ea42f399f27>\u001b[0m in \u001b[0;36mpink\u001b[1;34m(img_hsv)\u001b[0m\n\u001b[0;32m     20\u001b[0m     \u001b[0mpink_mask\u001b[0m \u001b[1;33m=\u001b[0m \u001b[0mcv2\u001b[0m\u001b[1;33m.\u001b[0m\u001b[0mcopyTo\u001b[0m\u001b[1;33m(\u001b[0m\u001b[0mimg_hsv\u001b[0m\u001b[1;33m,\u001b[0m\u001b[0mpink_mask\u001b[0m\u001b[1;33m,\u001b[0m \u001b[0mimg_hsv\u001b[0m\u001b[1;33m.\u001b[0m\u001b[0mshape\u001b[0m\u001b[1;33m[\u001b[0m\u001b[1;33m:\u001b[0m\u001b[1;36m2\u001b[0m\u001b[1;33m]\u001b[0m\u001b[1;33m)\u001b[0m\u001b[1;33m\u001b[0m\u001b[1;33m\u001b[0m\u001b[0m\n\u001b[0;32m     21\u001b[0m \u001b[1;33m\u001b[0m\u001b[0m\n\u001b[1;32m---> 22\u001b[1;33m     \u001b[0mpink_result\u001b[0m \u001b[1;33m=\u001b[0m \u001b[0mcv2\u001b[0m\u001b[1;33m.\u001b[0m\u001b[0mbitwise_and\u001b[0m\u001b[1;33m(\u001b[0m\u001b[0mimg_color\u001b[0m\u001b[1;33m,\u001b[0m \u001b[0mimg_color\u001b[0m\u001b[1;33m,\u001b[0m \u001b[0mmask\u001b[0m\u001b[1;33m=\u001b[0m\u001b[0mpink_mask\u001b[0m\u001b[1;33m)\u001b[0m\u001b[1;33m\u001b[0m\u001b[1;33m\u001b[0m\u001b[0m\n\u001b[0m\u001b[0;32m     23\u001b[0m \u001b[1;33m\u001b[0m\u001b[0m\n\u001b[0;32m     24\u001b[0m     \u001b[1;32mreturn\u001b[0m \u001b[0mpink_result\u001b[0m\u001b[1;33m\u001b[0m\u001b[1;33m\u001b[0m\u001b[0m\n",
      "\u001b[1;31merror\u001b[0m: OpenCV(4.1.2) C:\\projects\\opencv-python\\opencv\\modules\\core\\src\\arithm.cpp:245: error: (-215:Assertion failed) (mtype == CV_8U || mtype == CV_8S) && _mask.sameSize(*psrc1) in function 'cv::binary_op'\n"
     ]
    }
   ],
   "source": [
    "import os\n",
    "import numpy as np\n",
    "import cv2\n",
    "import glob\n",
    "\n",
    "path = glob.glob(\"C:/Users/user/Desktop/lib_test/*.jpg\")\n",
    "\n",
    "R_count=0\n",
    "P_count=0\n",
    "\n",
    "def pink (img_hsv):\n",
    "    lower_pink = (145,25,38)\n",
    "    upper_pink = (169,255,255)\n",
    "                    \n",
    "    pink_mask = cv2.inRange(img_hsv, lower_pink, upper_pink)\n",
    "            \n",
    "    pink_pixels = cv2.countNonZero(pink_mask)\n",
    "    \n",
    "    pink_mask = cv2.copyTo(img_hsv,pink_mask, img_hsv.shape[:2])\n",
    "                \n",
    "    pink_result = cv2.bitwise_and(img_color, img_color, mask=pink_mask)\n",
    "    \n",
    "    return pink_result\n",
    "\n",
    "def red (img_hsv):\n",
    "    lower_red_a = cv2.inRange(img_hsv, (0,25,38), (9,255,255))\n",
    "    upper_red_b = cv2.inRange(img_hsv, (170,25,38), (180,255,255))\n",
    "    \n",
    "    added_red = cv2.addWeighted(lower_red_a, 1.0, upper_red_b, 1.0, 0.0)\n",
    "            \n",
    "    red_pixels = cv2.countNonZero(added_red)\n",
    "     \n",
    "    red_result = cv2.bitwise_and(img_color, img_color, mask=added_red)\n",
    "    \n",
    "    return red_result\n",
    "\n",
    "for img in path:\n",
    "    image = cv2.imread(img)\n",
    "    height, width = image.shape[:2] # 이미지의 높이와 너비 불러옴, 가로 [0], 세로[1]\n",
    "\n",
    "    img_hsv = cv2.cvtColor(image, cv2.COLOR_BGR2HSV) # cvtColor 함수를 이용하여 hsv 색공간으로 변환 \n",
    "    \n",
    "    pink(img_hsv)    \n",
    "    red(img_hsv)\n",
    "    \n",
    "    if red(img_hsv)==True:\n",
    "        R_count+=1\n",
    "        cv2.imwrite('C:/Users/user/Desktop/red_result/%d.jpg'%R_count, red(img_hsv))\n",
    "    elif pink(img_hsv)==True:\n",
    "        P_count+=1\n",
    "        cv2.imwrite('C:/Users/user/Desktop/pink_result/%d.jpg'%P_count, pink(img_hsv))"
   ]
  },
  {
   "cell_type": "code",
   "execution_count": null,
   "metadata": {},
   "outputs": [],
   "source": []
  }
 ],
 "metadata": {
  "kernelspec": {
   "display_name": "Python 3",
   "language": "python",
   "name": "python3"
  },
  "language_info": {
   "codemirror_mode": {
    "name": "ipython",
    "version": 3
   },
   "file_extension": ".py",
   "mimetype": "text/x-python",
   "name": "python",
   "nbconvert_exporter": "python",
   "pygments_lexer": "ipython3",
   "version": "3.8.5"
  }
 },
 "nbformat": 4,
 "nbformat_minor": 4
}
