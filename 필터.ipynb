{
 "cells": [
  {
   "cell_type": "code",
   "execution_count": 15,
   "metadata": {},
   "outputs": [
    {
     "name": "stdout",
     "output_type": "stream",
     "text": [
      "> 필터링 시작\n",
      "> 0 번째 사진 삭제\n",
      "> 10 번째 사진 삭제\n",
      "> 11 번째 사진 삭제\n",
      "> 4650 번째 사진 삭제\n",
      "> 4667 번째 사진 삭제\n",
      "> 4670 번째 사진 삭제\n",
      "> 4672 번째 사진 삭제\n",
      "> 4688 번째 사진 삭제\n",
      "> 4691 번째 사진 삭제\n",
      "> 4705 번째 사진 삭제\n",
      "> 4734 번째 사진 삭제\n",
      "> 4743 번째 사진 삭제\n",
      "> 4774 번째 사진 삭제\n",
      "> 4804 번째 사진 삭제\n"
     ]
    }
   ],
   "source": [
    "import os\n",
    "import re\n",
    "import time\n",
    "import socket\n",
    "\n",
    "from urllib.request import urlretrieve\n",
    "from urllib.error import HTTPError, URLError\n",
    "from selenium import webdriver\n",
    "from selenium.common.exceptions import ElementClickInterceptedException, NoSuchElementException, ElementNotInteractableException\n",
    "from PIL import Image\n",
    "from pygame import mixer\n",
    "from datetime import date\n",
    "\n",
    "class Crawler:\n",
    "     def filtering(self, size):\n",
    "        print(\"> 필터링 시작\")\n",
    "\n",
    "        filtered_count = 0\n",
    "        dir_name = f\"C:/Users/user/Desktop/얼굴\"\n",
    "        for index, file_name in enumerate(os.listdir(dir_name)):\n",
    "            try:\n",
    "                file_path = os.path.join(dir_name, file_name)\n",
    "                img = Image.open(file_path)\n",
    "\n",
    "                # 이미지 해상도의 가로와 세로가 모두 size 이하인 경우\n",
    "                if img.width <= size and img.height <= size:\n",
    "                    img.close()\n",
    "                    os.remove(file_path)\n",
    "                    print(f\"> {index} 번째 사진 삭제\")\n",
    "                    filtered_count += 1\n",
    "\n",
    "            # 이미지 파일이 깨져있는 경우\n",
    "            except OSError:\n",
    "                os.remove(file_path)\n",
    "                filtered_count += 1\n",
    "\n",
    "\n",
    "        \n",
    "crawler=Crawler()\n",
    "crawler.filtering(275)"
   ]
  },
  {
   "cell_type": "code",
   "execution_count": null,
   "metadata": {},
   "outputs": [],
   "source": []
  }
 ],
 "metadata": {
  "kernelspec": {
   "display_name": "Python 3",
   "language": "python",
   "name": "python3"
  },
  "language_info": {
   "codemirror_mode": {
    "name": "ipython",
    "version": 3
   },
   "file_extension": ".py",
   "mimetype": "text/x-python",
   "name": "python",
   "nbconvert_exporter": "python",
   "pygments_lexer": "ipython3",
   "version": "3.8.5"
  }
 },
 "nbformat": 4,
 "nbformat_minor": 4
}
